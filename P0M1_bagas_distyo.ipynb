{
 "cells": [
  {
   "cell_type": "markdown",
   "metadata": {},
   "source": [
    "URL Dashboard : https://public.tableau.com/app/profile/bagas.distyo.utomo/viz/Book1_17422824607470/Dashboard3?publish=yes"
   ]
  },
  {
   "cell_type": "markdown",
   "metadata": {},
   "source": [
    "# I. Introduction"
   ]
  },
  {
   "cell_type": "code",
   "execution_count": 1,
   "metadata": {},
   "outputs": [
    {
     "data": {
      "text/plain": [
       "'\\n=================================================\\nMilestone 1\\n\\nNama  : Bagas Distyo Utomo\\nBatch : RMT-41\\n\\nProgram ini dibuat untuk menganalisis data penjualan adidas dan melakukan visualisasi dengan Dashboard\\n=================================================\\n'"
      ]
     },
     "execution_count": 1,
     "metadata": {},
     "output_type": "execute_result"
    }
   ],
   "source": [
    "'''\n",
    "=================================================\n",
    "Milestone 1\n",
    "\n",
    "Nama  : Bagas Distyo Utomo\n",
    "Batch : RMT-41\n",
    "\n",
    "Program ini dibuat untuk menganalisis data penjualan adidas dan melakukan visualisasi dengan Dashboard\n",
    "=================================================\n",
    "'''"
   ]
  },
  {
   "cell_type": "markdown",
   "metadata": {},
   "source": [
    "# II. Problem Statement and Dataset Description"
   ]
  },
  {
   "cell_type": "markdown",
   "metadata": {},
   "source": [
    "## Analisis Penjualan Produk Adidas untuk Meningkatkan Kinerja Penjualan\n",
    "<center><img src=\"https://i0.wp.com/blog.atome.id/wp-content/uploads/2022/11/2-3-Logo-3.jpg?resize=580%2C399&ssl=1\" height=216, width=384></img></center>\n",
    "\n",
    "### Anda adalah seorang Data Analyst yang akan mengerjakan sebuah project untuk menyelesaikan permasalahan seorang client. Client Anda membutuhkan hasil analisa data yang menggunakan statistik dan dashboard visualisasi untuk membantu mereka menyelesaikan masalahnya."
   ]
  },
  {
   "cell_type": "markdown",
   "metadata": {},
   "source": [
    "## Business Understanding"
   ]
  },
  {
   "cell_type": "markdown",
   "metadata": {},
   "source": [
    "### Background\n",
    "Pendapatan Adidas tahun ini mengalami penurunan, yang mungkin disebabkan oleh perubahan tren pasar, penurunan permintaan di beberapa wilayah, atau ketidaksesuaian produk dengan keinginan konsumen. Oleh karena itu, analisis penjualan diperlukan untuk mengidentifikasi penyebab penurunan tersebut dan membuat strategi untuk meningkatkan penjualan serta meningkatkan pendapatan."
   ]
  },
  {
   "cell_type": "markdown",
   "metadata": {},
   "source": [
    "### Defining the Problem Statements\n",
    "\n",
    "Using SMART framework:\n",
    "\n",
    "1. **Specific**: Menganalisis penjualan produk Adidas berdasarkan wilayah (region, state, city) dan kategori produk untuk mengetahui tren penjualan dan mengidentifikasi produk yang paling laris\n",
    "\n",
    "2. **Measurable**: Menetapkan target untuk meningkatkan penjualan produk Adidas sebesar 20% di wilayah yang memiliki performa rendah dengan mengukur kenaikan total sales dan jumlah unit yang terjual.\n",
    "\n",
    "3. **Achievable**: Melakukan analisis tren penjualan berdasarkan data historis untuk mengidentifikasi produk dengan penjualan terbaik dan wilayah dengan potensi terbesar untuk meningkatkan performa penjualan.\n",
    "\n",
    "4. **Relevant**: Menganalisis data penjualan dan produk akan memberikan wawasan yang berguna untuk meningkatkan penjualan di wilayah yang lebih lemah dan memanfaatkan produk yang paling laris.\n",
    "\n",
    "5. **Time-Bound**: Dapat dicapai dalam 3 bulan kedepan\n",
    "\n",
    "`Problem statement`:\n",
    "\n",
    "\n",
    "Tujuannya untuk menganalisis penjualan produk Adidas berdasarkan wilayah dan kategori untuk mengetahui tren penjualan serta mengidentifikasi produk yang paling laris, dengan target peningkatan penjualan sebesar 20% di wilayah yang memiliki performa rendah dalam tiga bulan ke depan. Analisis ini akan dilakukan dengan menggunakan data historis untuk menentukan produk unggulan dan wilayah dengan potensi terbesar, sehingga dapat meningkatkan penjualan\n"
   ]
  },
  {
   "cell_type": "markdown",
   "metadata": {},
   "source": [
    "### Breaking Down the Problem\n",
    "\n",
    "Main problem: `Meningkatkan penjualan produk Adidas di wilayah dengan performa rendah melalui analisis tren penjualan dan identifikasi produk unggulan.`\n",
    "\n",
    "The `5W+1H`s:\n",
    "- Produk adidas apa yang paling laku di setiap wilayah (region, state, city)?\n",
    "- Di kota apa penjualan Adidas yang memiliki performa terbaik dan yang terendah?\n",
    "- Produk apa yang menghasilkan margin keuntungan terbesar dan terkecil ?\n",
    "- Kapan penjualan produk tertentu meningkat atau menurun?\n",
    "- Mengapa pada setiap metode penjualan memiliki performa penjualan yang berbeda beda??"
   ]
  },
  {
   "cell_type": "markdown",
   "metadata": {},
   "source": [
    "### Dataset\n",
    "Sumber dari Kaggle : https://www.kaggle.com/datasets/ahmedabbas757/dataset\n",
    "Tentang penjualan produk Adidas dari 2020-01-01 sampai 2021-12-31"
   ]
  },
  {
   "cell_type": "markdown",
   "metadata": {},
   "source": [
    "#### Dataset Description\n",
    "Dataset ini terdiri dari 9.614 baris dan 12 kolom tentang penjualan Adidas, berikut merupakan penjelasan dari kolom-kolomnya :\n",
    "\n",
    "1. **Retailer** : Kolom ini menggambarkan bisnis atau individu yang menjual produk Adidas secara langsung kepada konsumen.\n",
    "2. **Retailer ID** : Merupakan ID unik yang diberikan untuk setiap retailer dalam dataset, digunakan untuk mengidentifikasi setiap retailer secara individual.\n",
    "3. **Invoice Date** : Tanggal terjadinya transaksi penjualan.\n",
    "4. **Region** : Merupakan wilayah geografis atau distrik tempat penjualan produk Adidas dilakukan.\n",
    "5. **State** : Mengacu pada pembagian administratif atau wilayah dalam suatu negara, tempat produk Adidas dijual.\n",
    "6. **City** : Merupakan nama kota atau daerah perkotaan di mana penjualan produk Adidas terjadi.\n",
    "7. **Product** : Mengacu pada klasifikasi atau pengelompokan produk Adidas yang dijual, seperti sepatu, pakaian, atau aksesori.\n",
    "8. **Price per Unit** : Harga yang diterapkan untuk satu unit produk.\n",
    "9. **Unit Sold** : Menunjukkan jumlah unit produk Adidas yang terjual pada transaksi tertentu\n",
    "10. **Total Sales** : Total pendapatan yang dihasilkan dari penjualan produk Adidas dalam transaksi tersebut.\n",
    "11. **Operating Profit** : Laba yang dihasilkan oleh retailer dari operasi bisnis normal mereka, menggambarkan keuntungan yang diperoleh setelah biaya operasional.\n",
    "12. **Sales Method** : Metode atau saluran yang digunakan oleh retailer untuk menjual produk mereka, misalnya melalui penjualan langsung di toko, platform online, atau distributor pihak ketiga."
   ]
  },
  {
   "cell_type": "markdown",
   "metadata": {},
   "source": [
    "# III. Data Loading"
   ]
  },
  {
   "cell_type": "code",
   "execution_count": 2,
   "metadata": {},
   "outputs": [
    {
     "data": {
      "text/html": [
       "<div>\n",
       "<style scoped>\n",
       "    .dataframe tbody tr th:only-of-type {\n",
       "        vertical-align: middle;\n",
       "    }\n",
       "\n",
       "    .dataframe tbody tr th {\n",
       "        vertical-align: top;\n",
       "    }\n",
       "\n",
       "    .dataframe thead th {\n",
       "        text-align: right;\n",
       "    }\n",
       "</style>\n",
       "<table border=\"1\" class=\"dataframe\">\n",
       "  <thead>\n",
       "    <tr style=\"text-align: right;\">\n",
       "      <th></th>\n",
       "      <th>Retailer</th>\n",
       "      <th>Retailer ID</th>\n",
       "      <th>Invoice Date</th>\n",
       "      <th>Region</th>\n",
       "      <th>State</th>\n",
       "      <th>City</th>\n",
       "      <th>Product</th>\n",
       "      <th>Price per Unit</th>\n",
       "      <th>Units Sold</th>\n",
       "      <th>Total Sales</th>\n",
       "      <th>Operating Profit</th>\n",
       "      <th>Sales Method</th>\n",
       "    </tr>\n",
       "  </thead>\n",
       "  <tbody>\n",
       "    <tr>\n",
       "      <th>0</th>\n",
       "      <td>Walmart</td>\n",
       "      <td>1128299</td>\n",
       "      <td>6/17/2021</td>\n",
       "      <td>Southeast</td>\n",
       "      <td>Florida</td>\n",
       "      <td>Orlando</td>\n",
       "      <td>Women's Apparel</td>\n",
       "      <td>$103.00</td>\n",
       "      <td>218</td>\n",
       "      <td>2,245</td>\n",
       "      <td>$1,257</td>\n",
       "      <td>Online</td>\n",
       "    </tr>\n",
       "    <tr>\n",
       "      <th>1</th>\n",
       "      <td>West Gear</td>\n",
       "      <td>1128299</td>\n",
       "      <td>7/16/2021</td>\n",
       "      <td>South</td>\n",
       "      <td>Louisiana</td>\n",
       "      <td>New Orleans</td>\n",
       "      <td>Women's Apparel</td>\n",
       "      <td>$103.00</td>\n",
       "      <td>163</td>\n",
       "      <td>1,679</td>\n",
       "      <td>$806</td>\n",
       "      <td>Online</td>\n",
       "    </tr>\n",
       "    <tr>\n",
       "      <th>2</th>\n",
       "      <td>Sports Direct</td>\n",
       "      <td>1197831</td>\n",
       "      <td>8/25/2021</td>\n",
       "      <td>South</td>\n",
       "      <td>Alabama</td>\n",
       "      <td>Birmingham</td>\n",
       "      <td>Men's Street Footwear</td>\n",
       "      <td>$10.00</td>\n",
       "      <td>700</td>\n",
       "      <td>7,000</td>\n",
       "      <td>$3,150</td>\n",
       "      <td>Outlet</td>\n",
       "    </tr>\n",
       "    <tr>\n",
       "      <th>3</th>\n",
       "      <td>Sports Direct</td>\n",
       "      <td>1197831</td>\n",
       "      <td>8/27/2021</td>\n",
       "      <td>South</td>\n",
       "      <td>Alabama</td>\n",
       "      <td>Birmingham</td>\n",
       "      <td>Women's Street Footwear</td>\n",
       "      <td>$15.00</td>\n",
       "      <td>575</td>\n",
       "      <td>8,625</td>\n",
       "      <td>$3,881</td>\n",
       "      <td>Outlet</td>\n",
       "    </tr>\n",
       "    <tr>\n",
       "      <th>4</th>\n",
       "      <td>Sports Direct</td>\n",
       "      <td>1197831</td>\n",
       "      <td>8/21/2021</td>\n",
       "      <td>South</td>\n",
       "      <td>Alabama</td>\n",
       "      <td>Birmingham</td>\n",
       "      <td>Women's Street Footwear</td>\n",
       "      <td>$15.00</td>\n",
       "      <td>475</td>\n",
       "      <td>7,125</td>\n",
       "      <td>$3,206</td>\n",
       "      <td>Outlet</td>\n",
       "    </tr>\n",
       "    <tr>\n",
       "      <th>...</th>\n",
       "      <td>...</td>\n",
       "      <td>...</td>\n",
       "      <td>...</td>\n",
       "      <td>...</td>\n",
       "      <td>...</td>\n",
       "      <td>...</td>\n",
       "      <td>...</td>\n",
       "      <td>...</td>\n",
       "      <td>...</td>\n",
       "      <td>...</td>\n",
       "      <td>...</td>\n",
       "      <td>...</td>\n",
       "    </tr>\n",
       "    <tr>\n",
       "      <th>9636</th>\n",
       "      <td>Amazon</td>\n",
       "      <td>1185732</td>\n",
       "      <td>11/18/2021</td>\n",
       "      <td>Northeast</td>\n",
       "      <td>Maine</td>\n",
       "      <td>Portland</td>\n",
       "      <td>Men's Apparel</td>\n",
       "      <td>$65.00</td>\n",
       "      <td>150</td>\n",
       "      <td>9,750</td>\n",
       "      <td>$2,438</td>\n",
       "      <td>Outlet</td>\n",
       "    </tr>\n",
       "    <tr>\n",
       "      <th>9637</th>\n",
       "      <td>Amazon</td>\n",
       "      <td>1185732</td>\n",
       "      <td>10/22/2021</td>\n",
       "      <td>West</td>\n",
       "      <td>Alaska</td>\n",
       "      <td>Anchorage</td>\n",
       "      <td>Women's Athletic Footwear</td>\n",
       "      <td>$65.00</td>\n",
       "      <td>150</td>\n",
       "      <td>9,750</td>\n",
       "      <td>$2,438</td>\n",
       "      <td>Outlet</td>\n",
       "    </tr>\n",
       "    <tr>\n",
       "      <th>9638</th>\n",
       "      <td>Amazon</td>\n",
       "      <td>1185732</td>\n",
       "      <td>10/22/2021</td>\n",
       "      <td>West</td>\n",
       "      <td>Alaska</td>\n",
       "      <td>Anchorage</td>\n",
       "      <td>Men's Apparel</td>\n",
       "      <td>$75.00</td>\n",
       "      <td>150</td>\n",
       "      <td>11,250</td>\n",
       "      <td>$2,813</td>\n",
       "      <td>Outlet</td>\n",
       "    </tr>\n",
       "    <tr>\n",
       "      <th>9639</th>\n",
       "      <td>West Gear</td>\n",
       "      <td>1185732</td>\n",
       "      <td>4/10/2021</td>\n",
       "      <td>Midwest</td>\n",
       "      <td>Indiana</td>\n",
       "      <td>Indianapolis</td>\n",
       "      <td>Men's Apparel</td>\n",
       "      <td>$65.00</td>\n",
       "      <td>150</td>\n",
       "      <td>9,750</td>\n",
       "      <td>$2,925</td>\n",
       "      <td>In-store</td>\n",
       "    </tr>\n",
       "    <tr>\n",
       "      <th>9640</th>\n",
       "      <td>Sports Direct</td>\n",
       "      <td>1185732</td>\n",
       "      <td>10/5/2021</td>\n",
       "      <td>Northeast</td>\n",
       "      <td>Connecticut</td>\n",
       "      <td>Hartford</td>\n",
       "      <td>Men's Apparel</td>\n",
       "      <td>$65.00</td>\n",
       "      <td>150</td>\n",
       "      <td>9,750</td>\n",
       "      <td>$2,925</td>\n",
       "      <td>In-store</td>\n",
       "    </tr>\n",
       "  </tbody>\n",
       "</table>\n",
       "<p>9641 rows × 12 columns</p>\n",
       "</div>"
      ],
      "text/plain": [
       "           Retailer  Retailer ID Invoice Date     Region        State  \\\n",
       "0           Walmart      1128299    6/17/2021  Southeast      Florida   \n",
       "1         West Gear      1128299    7/16/2021      South    Louisiana   \n",
       "2     Sports Direct      1197831    8/25/2021      South      Alabama   \n",
       "3     Sports Direct      1197831    8/27/2021      South      Alabama   \n",
       "4     Sports Direct      1197831    8/21/2021      South      Alabama   \n",
       "...             ...          ...          ...        ...          ...   \n",
       "9636         Amazon      1185732   11/18/2021  Northeast        Maine   \n",
       "9637         Amazon      1185732   10/22/2021       West       Alaska   \n",
       "9638         Amazon      1185732   10/22/2021       West       Alaska   \n",
       "9639      West Gear      1185732    4/10/2021    Midwest      Indiana   \n",
       "9640  Sports Direct      1185732    10/5/2021  Northeast  Connecticut   \n",
       "\n",
       "              City                    Product Price per Unit Units Sold  \\\n",
       "0          Orlando            Women's Apparel       $103.00         218   \n",
       "1      New Orleans            Women's Apparel       $103.00         163   \n",
       "2       Birmingham      Men's Street Footwear        $10.00         700   \n",
       "3       Birmingham    Women's Street Footwear        $15.00         575   \n",
       "4       Birmingham    Women's Street Footwear        $15.00         475   \n",
       "...            ...                        ...            ...        ...   \n",
       "9636      Portland              Men's Apparel        $65.00         150   \n",
       "9637     Anchorage  Women's Athletic Footwear        $65.00         150   \n",
       "9638     Anchorage              Men's Apparel        $75.00         150   \n",
       "9639  Indianapolis              Men's Apparel        $65.00         150   \n",
       "9640      Hartford              Men's Apparel        $65.00         150   \n",
       "\n",
       "     Total Sales Operating Profit Sales Method  \n",
       "0          2,245          $1,257        Online  \n",
       "1          1,679            $806        Online  \n",
       "2          7,000          $3,150        Outlet  \n",
       "3          8,625          $3,881        Outlet  \n",
       "4          7,125          $3,206        Outlet  \n",
       "...          ...              ...          ...  \n",
       "9636       9,750          $2,438        Outlet  \n",
       "9637       9,750          $2,438        Outlet  \n",
       "9638      11,250          $2,813        Outlet  \n",
       "9639       9,750          $2,925      In-store  \n",
       "9640       9,750          $2,925      In-store  \n",
       "\n",
       "[9641 rows x 12 columns]"
      ]
     },
     "execution_count": 2,
     "metadata": {},
     "output_type": "execute_result"
    }
   ],
   "source": [
    "import pandas as pd\n",
    "df = pd.read_csv('P0M1_bagas_distyo_dataset.csv') #Membaca file csv\n",
    "df"
   ]
  },
  {
   "cell_type": "markdown",
   "metadata": {},
   "source": [
    "Data dari sql sudah berhasil ditampilkan. Data penjualan berisi 9.641 baris dengan 12 kolom"
   ]
  },
  {
   "cell_type": "code",
   "execution_count": 3,
   "metadata": {},
   "outputs": [
    {
     "name": "stdout",
     "output_type": "stream",
     "text": [
      "<class 'pandas.core.frame.DataFrame'>\n",
      "RangeIndex: 9641 entries, 0 to 9640\n",
      "Data columns (total 12 columns):\n",
      " #   Column            Non-Null Count  Dtype \n",
      "---  ------            --------------  ----- \n",
      " 0   Retailer          9641 non-null   object\n",
      " 1   Retailer ID       9641 non-null   int64 \n",
      " 2   Invoice Date      9641 non-null   object\n",
      " 3   Region            9641 non-null   object\n",
      " 4   State             9641 non-null   object\n",
      " 5   City              9641 non-null   object\n",
      " 6   Product           9641 non-null   object\n",
      " 7   Price per Unit    9639 non-null   object\n",
      " 8   Units Sold        9641 non-null   object\n",
      " 9   Total Sales       9641 non-null   object\n",
      " 10  Operating Profit  9641 non-null   object\n",
      " 11  Sales Method      9641 non-null   object\n",
      "dtypes: int64(1), object(11)\n",
      "memory usage: 904.0+ KB\n"
     ]
    }
   ],
   "source": [
    "df.info() #Melihat informasi tentang kolom"
   ]
  },
  {
   "cell_type": "markdown",
   "metadata": {},
   "source": [
    "Berdasarkan hasil tersebut, kolom invoice date seharusnya date, price per unit seharusnya float, unit sold seharusnya integer, total sales dan operating profit seharusnya integer. Tipe kolom tersebut perlu diubah"
   ]
  },
  {
   "cell_type": "markdown",
   "metadata": {},
   "source": [
    "Pada kolom Price per Unit terdapat 2 data yang kosong dan perlu dihapus, karena nilai kosong (missing values) dapat mengganggu analisis."
   ]
  },
  {
   "cell_type": "code",
   "execution_count": 4,
   "metadata": {},
   "outputs": [
    {
     "data": {
      "text/plain": [
       "array([\"Women's Apparel\", \"Men's Street Footwear\",\n",
       "       \"Women's Street Footwear\", \"Men's Athletic Footwear\",\n",
       "       \"Women's Athletic Footwear\", \"Men's Apparel\", \"Men's aparel\"],\n",
       "      dtype=object)"
      ]
     },
     "execution_count": 4,
     "metadata": {},
     "output_type": "execute_result"
    }
   ],
   "source": [
    "df['Product'].unique()"
   ]
  },
  {
   "cell_type": "markdown",
   "metadata": {},
   "source": [
    "Produk pada data ini ada 7, yaitu :\n",
    "- Women's Apparel: Pakaian wanita.\n",
    "- Men's Street Footwear: Sepatu jalanan pria.\n",
    "- Women's Street Footwear: Sepatu jalanan wanita.\n",
    "- Men's Athletic Footwear: Sepatu olahraga pria.\n",
    "- Women's Athletic Footwear: Sepatu olahraga wanita.\n",
    "- Men's Apparel: Pakaian pria.\n",
    "- Men's aparel: Kemungkinan adalah kesalahan penulisan atau variasi dari \"Men's Apparel\"\n",
    "\n",
    "Secara keseluruhan, ada variasi dalam kategori produk yang dijual, namun ada kemungkinan kesalahan penulisan pada kategori \"Men's aparel\" yang seharusnya \"Men's Apparel\"."
   ]
  },
  {
   "cell_type": "code",
   "execution_count": 5,
   "metadata": {},
   "outputs": [
    {
     "data": {
      "text/plain": [
       "array(['Online', 'Outlet', 'In-store'], dtype=object)"
      ]
     },
     "execution_count": 5,
     "metadata": {},
     "output_type": "execute_result"
    }
   ],
   "source": [
    "df['Sales Method'].unique()"
   ]
  },
  {
   "cell_type": "markdown",
   "metadata": {},
   "source": [
    "Metode penjualan produk terdiri dari Online (penjualan melalui platform digital), Outlet (penjualan di toko diskon dengan produk lama atau sisa stok), dan In-store (penjualan langsung di toko fisik dengan harga standar)."
   ]
  },
  {
   "cell_type": "code",
   "execution_count": 6,
   "metadata": {},
   "outputs": [
    {
     "data": {
      "text/plain": [
       "array(['$103.00 ', '$10.00 ', '$15.00 ', '$20.00 ', '$44.00 ', '$48.00 ',\n",
       "       '$39.00 ', '$46.00 ', '$47.00 ', '$40.00 ', '$33.00 ', '$34.00 ',\n",
       "       '$31.00 ', '$41.00 ', '$29.00 ', '$56.00 ', '$37.00 ', '$25.00 ',\n",
       "       '$32.00 ', '$36.00 ', '$43.00 ', '$45.00 ', '$38.00 ', '$26.00 ',\n",
       "       '$42.00 ', '$35.00 ', '$50.00 ', '$62.00 ', '$58.00 ', '$63.00 ',\n",
       "       '$53.00 ', '$30.00 ', '$59.00 ', '$54.00 ', '$28.00 ', '$24.00 ',\n",
       "       '$27.00 ', '$55.00 ', '$61.00 ', '$23.00 ', '$60.00 ', '$64.00 ',\n",
       "       '$51.00 ', '$52.00 ', '$68.00 ', '$67.00 ', '$86.00 ', '$66.00 ',\n",
       "       '$49.00 ', '$74.00 ', '$83.00 ', '$69.00 ', '$57.00 ', '$79.00 ',\n",
       "       '$73.00 ', '$65.00 ', '$22.00 ', '$80.00 ', '$21.00 ', '$12.00 ',\n",
       "       '$77.00 ', '$72.00 ', '$76.00 ', '$13.00 ', '$70.00 ', '$82.00 ',\n",
       "       '$19.00 ', '$88.00 ', '$7.00 ', '$14.00 ', '$71.00 ', '$16.00 ',\n",
       "       '$17.00 ', '$87.00 ', '$18.00 ', '$81.00 ', '$78.00 ', '$9.00 ',\n",
       "       '$92.00 ', '$85.00 ', '$90.00 ', '$89.00 ', '$100.00 ', '$75.00 ',\n",
       "       '$11.00 ', '$95.00 ', '$98.00 ', '$96.00 ', '$97.00 ', '$101.00 ',\n",
       "       '$84.00 ', '$8.00 ', '$110.00 ', '$105.00 ', nan], dtype=object)"
      ]
     },
     "execution_count": 6,
     "metadata": {},
     "output_type": "execute_result"
    }
   ],
   "source": [
    "df['Price per Unit'].unique()"
   ]
  },
  {
   "cell_type": "markdown",
   "metadata": {},
   "source": [
    "Pada kolom tersebut seharusnya dollar tidak ada, karena data numerik dan perlu dihapus"
   ]
  },
  {
   "cell_type": "code",
   "execution_count": 7,
   "metadata": {},
   "outputs": [
    {
     "data": {
      "text/plain": [
       "array(['218', '163', '700', '575', '475', '450', '434', '425', '420',\n",
       "       '408', '403', '400', '390', '388', '384', '376', '375', '374',\n",
       "       '372', '366', '360', '359', '355', '354', '352', '350', '349',\n",
       "       '347', '345', '341', '340', '338', '336', '333', '332', '330',\n",
       "       '326', '325', '324', '323', '322', '320', '319', '318', '317',\n",
       "       '315', '314', '313', '312', '311', '310', '308', '306', '305',\n",
       "       '304', '302', '300', '299', '298', '297', '296', '295', '294',\n",
       "       '293', '290', '289', '288', '287', '286', '285', '284', '283',\n",
       "       '282', '281', '280', '279', '278', '277', '276', '275', '273',\n",
       "       '272', '271', '270', '268', '267', '265', '264', '263', '261',\n",
       "       '260', '259', '258', '257', '256', '255', '254', '252', '250',\n",
       "       '248', '247', '246', '245', '244', '243', '241', '240', '239',\n",
       "       '238', '236', '234', '233', '232', '231', '230', '228', '225',\n",
       "       '224', '223', '221', '220', '219', '217', '216', '215', '213',\n",
       "       '210', '209', '208', '207', '206', '204', '203', '202', '201',\n",
       "       '200', '198', '196', '195', '194', '193', '192', '191', '190',\n",
       "       '189', '188', '187', '186', '185', '184', '182', '181', '180',\n",
       "       '179', '178', '177', '176', '175', '174', '173', '171', '170',\n",
       "       '169', '168', '167', '166', '165', '164', '162', '161', '160',\n",
       "       '158', '157', '156', '155', '154', '153', '152', '151', '150',\n",
       "       '149', '147', '146', '145', '144', '143', '142', '141', '140',\n",
       "       '139', '138', '137', '136', '135', '134', '133', '132', '131',\n",
       "       '130', '129', '128', '127', '126', '125', '124', '123', '122',\n",
       "       '120', '119', '118', '117', '116', '115', '114', '113', '112',\n",
       "       '111', '109', '108', '107', '106', '105', '104', '103', '102',\n",
       "       '101', '100', '99', '98', '96', '95', '94', '93', '91', '90', '88',\n",
       "       '87', '86', '85', '84', '83', '81', '80', '79', '78', '77', '75',\n",
       "       '74', '73', '72', '70', '69', '68', '66', '65', '64', '63', '62',\n",
       "       '61', '60', '59', '58', '57', '56', '55', '54', '53', '52', '51',\n",
       "       '50', '49', '48', '47', '46', '45', '44', '43', '42', '41', '40',\n",
       "       '39', '38', '36', '35', '34', '33', '32', '31', '30', '29', '28',\n",
       "       '27', '26', '25', '24', '23', '22', '21', '20', '19', '17', '16',\n",
       "       '15', '14', '13', '8', '7', '6', '0', '750', '1,275', '1,250',\n",
       "       '1,220', '1,200', '1,150', '1,125', '1,075', '975', '925', '900',\n",
       "       '875', '650', '600', '1,100', '1,070', '1,050', '1,045', '1,025',\n",
       "       '1,020', '1,000', '950', '945', '920', '870', '850', '825', '820',\n",
       "       '800', '795', '775', '770', '745', '725', '720', '695', '675',\n",
       "       '670', '645', '625', '620', '595', '570', '550', '545', '525',\n",
       "       '520', '500', '495', '470', '445', '395'], dtype=object)"
      ]
     },
     "execution_count": 7,
     "metadata": {},
     "output_type": "execute_result"
    }
   ],
   "source": [
    "df['Units Sold'].unique()"
   ]
  },
  {
   "cell_type": "markdown",
   "metadata": {},
   "source": [
    "Terdapat tanda koma, seharusnya tidak ada dan perlu dihapus karena numerik."
   ]
  },
  {
   "cell_type": "code",
   "execution_count": 8,
   "metadata": {},
   "outputs": [
    {
     "data": {
      "text/plain": [
       "array(['2,245', '1,679', '7,000', ..., '9,900', '11,700', '10,725'],\n",
       "      dtype=object)"
      ]
     },
     "execution_count": 8,
     "metadata": {},
     "output_type": "execute_result"
    }
   ],
   "source": [
    "df['Total Sales'].unique()"
   ]
  },
  {
   "cell_type": "markdown",
   "metadata": {},
   "source": [
    "Terdapat tanda koma, seharusnya tidak ada dan perlu dihapus karena numerik."
   ]
  },
  {
   "cell_type": "code",
   "execution_count": 9,
   "metadata": {},
   "outputs": [
    {
     "data": {
      "text/plain": [
       "array(['$1,257 ', '$806 ', '$3,150 ', ..., '$4,290 ', '$7,394 ',\n",
       "       '$2,925 '], dtype=object)"
      ]
     },
     "execution_count": 9,
     "metadata": {},
     "output_type": "execute_result"
    }
   ],
   "source": [
    "df['Operating Profit'].unique()"
   ]
  },
  {
   "cell_type": "markdown",
   "metadata": {},
   "source": [
    "Terdapat lambang dollar dan tanda koma, perlu dihapus"
   ]
  },
  {
   "cell_type": "markdown",
   "metadata": {},
   "source": [
    "# IV. Data Cleaning"
   ]
  },
  {
   "cell_type": "code",
   "execution_count": 10,
   "metadata": {},
   "outputs": [],
   "source": [
    "df['Product'] = df['Product'].str.replace(\"Men's aparel\", \"Men's Apparel\") #Mengubah kesalahan penulisan Men's aparel"
   ]
  },
  {
   "cell_type": "code",
   "execution_count": 11,
   "metadata": {},
   "outputs": [],
   "source": [
    "df['Price per Unit'] = df['Price per Unit'].str.replace('$', '') #Menghapus lambang dollar"
   ]
  },
  {
   "cell_type": "code",
   "execution_count": 12,
   "metadata": {},
   "outputs": [],
   "source": [
    "df['Units Sold'] = df['Units Sold'].str.replace(',', '')  #Menghapus tanda koma"
   ]
  },
  {
   "cell_type": "code",
   "execution_count": 13,
   "metadata": {},
   "outputs": [],
   "source": [
    "df['Total Sales'] = df['Total Sales'].str.replace(',', '') #Menghapus tanda koma"
   ]
  },
  {
   "cell_type": "code",
   "execution_count": 14,
   "metadata": {},
   "outputs": [],
   "source": [
    "df['Operating Profit'] = df['Operating Profit'].str.replace('$', '') #Menghapus lambang dollar\n",
    "df['Operating Profit'] = df['Operating Profit'].str.replace(',', '')  #Menghapus tanda koma"
   ]
  },
  {
   "cell_type": "code",
   "execution_count": 15,
   "metadata": {},
   "outputs": [],
   "source": [
    "# Menghapus baris dengan nilai null di kolom 'price_per_unit' menggunakan dropna\n",
    "df.dropna(subset=['Price per Unit'], inplace=True)"
   ]
  },
  {
   "cell_type": "code",
   "execution_count": 16,
   "metadata": {},
   "outputs": [],
   "source": [
    "# Mengubah kolom invoice_date menjadi datetime\n",
    "df['Invoice Date'] = pd.to_datetime(df['Invoice Date'], format='%m/%d/%Y')\n",
    "\n",
    "# Mengubah kolom price_per_unit menjadi float\n",
    "df['Price per Unit'] = df['Price per Unit'].astype(float)\n",
    "\n",
    "# Mengubah kolom units_sold menjadi integer\n",
    "df['Units Sold'] = df['Units Sold'].astype(int)\n",
    "\n",
    "# Mengubah kolom total_sales menjadi integer\n",
    "df['Total Sales'] = df['Total Sales'].astype(int)\n",
    "\n",
    "# Mengubah kolom operating_profit menjadi integer\n",
    "df['Operating Profit'] = df['Operating Profit'].astype(int)"
   ]
  },
  {
   "cell_type": "code",
   "execution_count": 17,
   "metadata": {},
   "outputs": [
    {
     "name": "stdout",
     "output_type": "stream",
     "text": [
      "<class 'pandas.core.frame.DataFrame'>\n",
      "Index: 9639 entries, 0 to 9640\n",
      "Data columns (total 12 columns):\n",
      " #   Column            Non-Null Count  Dtype         \n",
      "---  ------            --------------  -----         \n",
      " 0   Retailer          9639 non-null   object        \n",
      " 1   Retailer ID       9639 non-null   int64         \n",
      " 2   Invoice Date      9639 non-null   datetime64[ns]\n",
      " 3   Region            9639 non-null   object        \n",
      " 4   State             9639 non-null   object        \n",
      " 5   City              9639 non-null   object        \n",
      " 6   Product           9639 non-null   object        \n",
      " 7   Price per Unit    9639 non-null   float64       \n",
      " 8   Units Sold        9639 non-null   int64         \n",
      " 9   Total Sales       9639 non-null   int64         \n",
      " 10  Operating Profit  9639 non-null   int64         \n",
      " 11  Sales Method      9639 non-null   object        \n",
      "dtypes: datetime64[ns](1), float64(1), int64(4), object(6)\n",
      "memory usage: 979.0+ KB\n"
     ]
    }
   ],
   "source": [
    "df.info()"
   ]
  },
  {
   "cell_type": "markdown",
   "metadata": {},
   "source": [
    "Data setelah dibersihkan menjadi 9.639 karena ada 2 data yang kosong dan untuk kolom yang tidak sesuai sebelumnya sudah berhasil diubah"
   ]
  },
  {
   "cell_type": "markdown",
   "metadata": {},
   "source": [
    "# V. Exploration and Analysis"
   ]
  },
  {
   "cell_type": "markdown",
   "metadata": {},
   "source": [
    "### Statistik Deskriptif"
   ]
  },
  {
   "cell_type": "code",
   "execution_count": 23,
   "metadata": {},
   "outputs": [
    {
     "name": "stdout",
     "output_type": "stream",
     "text": [
      "\n",
      "Units Sold:\n",
      "Mean: 256.69270671231453\n",
      "Median: 176.0\n",
      "Mode: 225\n",
      "Standard Deviation: 214.0396887455658\n",
      "\n",
      "Total Sales:\n",
      "Mean: 9311.035065878203\n",
      "Median: 957.0\n",
      "Mode: 10000\n",
      "Standard Deviation: 14177.614532894542\n"
     ]
    }
   ],
   "source": [
    "# Menghitung ukuran pemusatan data dan variansi\n",
    "print(\"\\nUnits Sold:\")\n",
    "print(f\"Mean: {df['Units Sold'].mean()}\")\n",
    "print(f\"Median: {df['Units Sold'].median()}\")\n",
    "print(f\"Mode: {df['Units Sold'].mode()[0]}\")\n",
    "print(f\"Standard Deviation: {df['Units Sold'].std()}\")\n",
    "\n",
    "\n",
    "print(\"\\nTotal Sales:\")\n",
    "print(f\"Mean: {df['Total Sales'].mean()}\")\n",
    "print(f\"Median: {df['Total Sales'].median()}\")\n",
    "print(f\"Mode: {df['Total Sales'].mode()[0]}\")\n",
    "print(f\"Standard Deviation: {df['Total Sales'].std()}\")"
   ]
  },
  {
   "cell_type": "markdown",
   "metadata": {},
   "source": [
    "- Units Sold: Rata-rata unit yang terjual adalah sekitar 257, dengan median sebesar 176 dan modus 225. Terdapat variasi yang besar, dengan standar deviasi sebesar 214, yang menunjukkan bahwa penjualan per transaksi sangat bervariasi.\n",
    "\n",
    "- Total Sales: Rata-rata total penjualan adalah sekitar $9.311, dengan median $957 dan modus untuk total penjualan adalah $10.000, sementara standar deviasi yang besar (sekitar $14.177) menunjukan adanya penjualan dengan total yang jauh lebih tinggi daripada rata-rata.\n"
   ]
  },
  {
   "cell_type": "code",
   "execution_count": 25,
   "metadata": {},
   "outputs": [
    {
     "name": "stdout",
     "output_type": "stream",
     "text": [
      "Skewness pada 'Units Sold': 1.464547490610823\n",
      "Skewness pada 'Total Sales': 1.8442233061734081\n",
      "Skewness pada 'Operating Profit': 2.2371218343612234\n"
     ]
    }
   ],
   "source": [
    "# 1. Skewness pada kolom 'Units Sold'\n",
    "units_sold_skew = df['Units Sold'].skew()\n",
    "print(f\"Skewness pada 'Units Sold': {units_sold_skew}\")\n",
    "\n",
    "# 2. Skewness pada kolom 'Total Sales'\n",
    "total_sales_skew = df['Total Sales'].skew()\n",
    "print(f\"Skewness pada 'Total Sales': {total_sales_skew}\")\n",
    "\n",
    "# 3. Skewness pada kolom 'Operating Profit'\n",
    "operating_profit_skew = df['Operating Profit'].skew()\n",
    "print(f\"Skewness pada 'Operating Profit': {operating_profit_skew}\")\n"
   ]
  },
  {
   "cell_type": "markdown",
   "metadata": {},
   "source": [
    "Skewness pada ketiga kolom tersebut menunjukkan distribusi data yang condong ke kanan (positif skew), yang berarti sebagian besar transaksi memiliki penjualan, pendapatan, dan profit yang relatif rendah, namun ada beberapa transaksi dengan nilai penjualan, pendapatan, dan profit yang sangat tinggi."
   ]
  },
  {
   "cell_type": "markdown",
   "metadata": {},
   "source": [
    "### Produk adidas apa yang paling laku di setiap wilayah (region, state, city)?"
   ]
  },
  {
   "cell_type": "code",
   "execution_count": 37,
   "metadata": {},
   "outputs": [
    {
     "data": {
      "text/html": [
       "<div>\n",
       "<style scoped>\n",
       "    .dataframe tbody tr th:only-of-type {\n",
       "        vertical-align: middle;\n",
       "    }\n",
       "\n",
       "    .dataframe tbody tr th {\n",
       "        vertical-align: top;\n",
       "    }\n",
       "\n",
       "    .dataframe thead th {\n",
       "        text-align: right;\n",
       "    }\n",
       "</style>\n",
       "<table border=\"1\" class=\"dataframe\">\n",
       "  <thead>\n",
       "    <tr style=\"text-align: right;\">\n",
       "      <th></th>\n",
       "      <th>Region</th>\n",
       "      <th>State</th>\n",
       "      <th>City</th>\n",
       "      <th>Product</th>\n",
       "      <th>Units Sold</th>\n",
       "    </tr>\n",
       "  </thead>\n",
       "  <tbody>\n",
       "    <tr>\n",
       "      <th>128</th>\n",
       "      <td>Northeast</td>\n",
       "      <td>New York</td>\n",
       "      <td>New York</td>\n",
       "      <td>Men's Street Footwear</td>\n",
       "      <td>22707</td>\n",
       "    </tr>\n",
       "    <tr>\n",
       "      <th>266</th>\n",
       "      <td>West</td>\n",
       "      <td>California</td>\n",
       "      <td>San Francisco</td>\n",
       "      <td>Men's Street Footwear</td>\n",
       "      <td>17235</td>\n",
       "    </tr>\n",
       "    <tr>\n",
       "      <th>200</th>\n",
       "      <td>South</td>\n",
       "      <td>Texas</td>\n",
       "      <td>Houston</td>\n",
       "      <td>Men's Street Footwear</td>\n",
       "      <td>17019</td>\n",
       "    </tr>\n",
       "    <tr>\n",
       "      <th>236</th>\n",
       "      <td>Southeast</td>\n",
       "      <td>South Carolina</td>\n",
       "      <td>Charleston</td>\n",
       "      <td>Men's Street Footwear</td>\n",
       "      <td>15598</td>\n",
       "    </tr>\n",
       "    <tr>\n",
       "      <th>260</th>\n",
       "      <td>West</td>\n",
       "      <td>California</td>\n",
       "      <td>Los Angeles</td>\n",
       "      <td>Men's Street Footwear</td>\n",
       "      <td>15575</td>\n",
       "    </tr>\n",
       "    <tr>\n",
       "      <th>206</th>\n",
       "      <td>Southeast</td>\n",
       "      <td>Florida</td>\n",
       "      <td>Miami</td>\n",
       "      <td>Men's Street Footwear</td>\n",
       "      <td>15453</td>\n",
       "    </tr>\n",
       "    <tr>\n",
       "      <th>230</th>\n",
       "      <td>Southeast</td>\n",
       "      <td>North Carolina</td>\n",
       "      <td>Charlotte</td>\n",
       "      <td>Men's Street Footwear</td>\n",
       "      <td>13969</td>\n",
       "    </tr>\n",
       "    <tr>\n",
       "      <th>176</th>\n",
       "      <td>South</td>\n",
       "      <td>Mississippi</td>\n",
       "      <td>Jackson</td>\n",
       "      <td>Men's Street Footwear</td>\n",
       "      <td>13839</td>\n",
       "    </tr>\n",
       "    <tr>\n",
       "      <th>194</th>\n",
       "      <td>South</td>\n",
       "      <td>Texas</td>\n",
       "      <td>Dallas</td>\n",
       "      <td>Men's Street Footwear</td>\n",
       "      <td>13536</td>\n",
       "    </tr>\n",
       "    <tr>\n",
       "      <th>212</th>\n",
       "      <td>Southeast</td>\n",
       "      <td>Florida</td>\n",
       "      <td>Orlando</td>\n",
       "      <td>Men's Street Footwear</td>\n",
       "      <td>13279</td>\n",
       "    </tr>\n",
       "    <tr>\n",
       "      <th>122</th>\n",
       "      <td>Northeast</td>\n",
       "      <td>New York</td>\n",
       "      <td>Albany</td>\n",
       "      <td>Men's Street Footwear</td>\n",
       "      <td>13148</td>\n",
       "    </tr>\n",
       "    <tr>\n",
       "      <th>188</th>\n",
       "      <td>South</td>\n",
       "      <td>Tennessee</td>\n",
       "      <td>Knoxville</td>\n",
       "      <td>Men's Street Footwear</td>\n",
       "      <td>13111</td>\n",
       "    </tr>\n",
       "    <tr>\n",
       "      <th>218</th>\n",
       "      <td>Southeast</td>\n",
       "      <td>Georgia</td>\n",
       "      <td>Atlanta</td>\n",
       "      <td>Men's Street Footwear</td>\n",
       "      <td>12955</td>\n",
       "    </tr>\n",
       "    <tr>\n",
       "      <th>158</th>\n",
       "      <td>South</td>\n",
       "      <td>Alabama</td>\n",
       "      <td>Birmingham</td>\n",
       "      <td>Men's Street Footwear</td>\n",
       "      <td>12612</td>\n",
       "    </tr>\n",
       "    <tr>\n",
       "      <th>170</th>\n",
       "      <td>South</td>\n",
       "      <td>Louisiana</td>\n",
       "      <td>New Orleans</td>\n",
       "      <td>Men's Street Footwear</td>\n",
       "      <td>12605</td>\n",
       "    </tr>\n",
       "    <tr>\n",
       "      <th>164</th>\n",
       "      <td>South</td>\n",
       "      <td>Arkansas</td>\n",
       "      <td>Little Rock</td>\n",
       "      <td>Men's Street Footwear</td>\n",
       "      <td>12588</td>\n",
       "    </tr>\n",
       "    <tr>\n",
       "      <th>284</th>\n",
       "      <td>West</td>\n",
       "      <td>Idaho</td>\n",
       "      <td>Boise</td>\n",
       "      <td>Men's Street Footwear</td>\n",
       "      <td>12573</td>\n",
       "    </tr>\n",
       "    <tr>\n",
       "      <th>242</th>\n",
       "      <td>Southeast</td>\n",
       "      <td>Virginia</td>\n",
       "      <td>Richmond</td>\n",
       "      <td>Men's Street Footwear</td>\n",
       "      <td>12107</td>\n",
       "    </tr>\n",
       "    <tr>\n",
       "      <th>308</th>\n",
       "      <td>West</td>\n",
       "      <td>Utah</td>\n",
       "      <td>Salt Lake City</td>\n",
       "      <td>Men's Street Footwear</td>\n",
       "      <td>11922</td>\n",
       "    </tr>\n",
       "    <tr>\n",
       "      <th>26</th>\n",
       "      <td>Midwest</td>\n",
       "      <td>Michigan</td>\n",
       "      <td>Detroit</td>\n",
       "      <td>Men's Street Footwear</td>\n",
       "      <td>11809</td>\n",
       "    </tr>\n",
       "    <tr>\n",
       "      <th>296</th>\n",
       "      <td>West</td>\n",
       "      <td>New Mexico</td>\n",
       "      <td>Albuquerque</td>\n",
       "      <td>Men's Street Footwear</td>\n",
       "      <td>11546</td>\n",
       "    </tr>\n",
       "    <tr>\n",
       "      <th>290</th>\n",
       "      <td>West</td>\n",
       "      <td>Nevada</td>\n",
       "      <td>Las Vegas</td>\n",
       "      <td>Men's Street Footwear</td>\n",
       "      <td>11494</td>\n",
       "    </tr>\n",
       "    <tr>\n",
       "      <th>320</th>\n",
       "      <td>West</td>\n",
       "      <td>Wyoming</td>\n",
       "      <td>Cheyenne</td>\n",
       "      <td>Men's Street Footwear</td>\n",
       "      <td>11426</td>\n",
       "    </tr>\n",
       "    <tr>\n",
       "      <th>62</th>\n",
       "      <td>Midwest</td>\n",
       "      <td>Ohio</td>\n",
       "      <td>Columbus</td>\n",
       "      <td>Men's Street Footwear</td>\n",
       "      <td>11391</td>\n",
       "    </tr>\n",
       "    <tr>\n",
       "      <th>182</th>\n",
       "      <td>South</td>\n",
       "      <td>Oklahoma</td>\n",
       "      <td>Oklahoma City</td>\n",
       "      <td>Men's Street Footwear</td>\n",
       "      <td>11235</td>\n",
       "    </tr>\n",
       "    <tr>\n",
       "      <th>110</th>\n",
       "      <td>Northeast</td>\n",
       "      <td>New Hampshire</td>\n",
       "      <td>Manchester</td>\n",
       "      <td>Men's Street Footwear</td>\n",
       "      <td>11137</td>\n",
       "    </tr>\n",
       "    <tr>\n",
       "      <th>302</th>\n",
       "      <td>West</td>\n",
       "      <td>Oregon</td>\n",
       "      <td>Portland</td>\n",
       "      <td>Men's Street Footwear</td>\n",
       "      <td>11038</td>\n",
       "    </tr>\n",
       "    <tr>\n",
       "      <th>146</th>\n",
       "      <td>Northeast</td>\n",
       "      <td>Vermont</td>\n",
       "      <td>Burlington</td>\n",
       "      <td>Men's Street Footwear</td>\n",
       "      <td>10789</td>\n",
       "    </tr>\n",
       "    <tr>\n",
       "      <th>254</th>\n",
       "      <td>West</td>\n",
       "      <td>Arizona</td>\n",
       "      <td>Phoenix</td>\n",
       "      <td>Men's Street Footwear</td>\n",
       "      <td>10631</td>\n",
       "    </tr>\n",
       "    <tr>\n",
       "      <th>314</th>\n",
       "      <td>West</td>\n",
       "      <td>Washington</td>\n",
       "      <td>Seattle</td>\n",
       "      <td>Men's Street Footwear</td>\n",
       "      <td>10334</td>\n",
       "    </tr>\n",
       "    <tr>\n",
       "      <th>80</th>\n",
       "      <td>Northeast</td>\n",
       "      <td>Connecticut</td>\n",
       "      <td>Hartford</td>\n",
       "      <td>Men's Street Footwear</td>\n",
       "      <td>10076</td>\n",
       "    </tr>\n",
       "    <tr>\n",
       "      <th>104</th>\n",
       "      <td>Northeast</td>\n",
       "      <td>Massachusetts</td>\n",
       "      <td>Boston</td>\n",
       "      <td>Men's Street Footwear</td>\n",
       "      <td>9736</td>\n",
       "    </tr>\n",
       "    <tr>\n",
       "      <th>38</th>\n",
       "      <td>Midwest</td>\n",
       "      <td>Missouri</td>\n",
       "      <td>St. Louis</td>\n",
       "      <td>Men's Street Footwear</td>\n",
       "      <td>9656</td>\n",
       "    </tr>\n",
       "    <tr>\n",
       "      <th>44</th>\n",
       "      <td>Midwest</td>\n",
       "      <td>Montana</td>\n",
       "      <td>Billings</td>\n",
       "      <td>Men's Street Footwear</td>\n",
       "      <td>9580</td>\n",
       "    </tr>\n",
       "    <tr>\n",
       "      <th>272</th>\n",
       "      <td>West</td>\n",
       "      <td>Colorado</td>\n",
       "      <td>Denver</td>\n",
       "      <td>Men's Street Footwear</td>\n",
       "      <td>9114</td>\n",
       "    </tr>\n",
       "    <tr>\n",
       "      <th>248</th>\n",
       "      <td>West</td>\n",
       "      <td>Alaska</td>\n",
       "      <td>Anchorage</td>\n",
       "      <td>Men's Street Footwear</td>\n",
       "      <td>8984</td>\n",
       "    </tr>\n",
       "    <tr>\n",
       "      <th>134</th>\n",
       "      <td>Northeast</td>\n",
       "      <td>Pennsylvania</td>\n",
       "      <td>Philadelphia</td>\n",
       "      <td>Men's Street Footwear</td>\n",
       "      <td>8928</td>\n",
       "    </tr>\n",
       "    <tr>\n",
       "      <th>278</th>\n",
       "      <td>West</td>\n",
       "      <td>Hawaii</td>\n",
       "      <td>Honolulu</td>\n",
       "      <td>Men's Street Footwear</td>\n",
       "      <td>8923</td>\n",
       "    </tr>\n",
       "    <tr>\n",
       "      <th>140</th>\n",
       "      <td>Northeast</td>\n",
       "      <td>Rhode Island</td>\n",
       "      <td>Providence</td>\n",
       "      <td>Men's Street Footwear</td>\n",
       "      <td>8878</td>\n",
       "    </tr>\n",
       "    <tr>\n",
       "      <th>224</th>\n",
       "      <td>Southeast</td>\n",
       "      <td>Kentucky</td>\n",
       "      <td>Louisville</td>\n",
       "      <td>Men's Street Footwear</td>\n",
       "      <td>8506</td>\n",
       "    </tr>\n",
       "    <tr>\n",
       "      <th>86</th>\n",
       "      <td>Northeast</td>\n",
       "      <td>Delaware</td>\n",
       "      <td>Wilmington</td>\n",
       "      <td>Men's Street Footwear</td>\n",
       "      <td>8506</td>\n",
       "    </tr>\n",
       "    <tr>\n",
       "      <th>20</th>\n",
       "      <td>Midwest</td>\n",
       "      <td>Kansas</td>\n",
       "      <td>Wichita</td>\n",
       "      <td>Men's Street Footwear</td>\n",
       "      <td>8454</td>\n",
       "    </tr>\n",
       "    <tr>\n",
       "      <th>152</th>\n",
       "      <td>Northeast</td>\n",
       "      <td>West Virginia</td>\n",
       "      <td>Charleston</td>\n",
       "      <td>Men's Street Footwear</td>\n",
       "      <td>8221</td>\n",
       "    </tr>\n",
       "    <tr>\n",
       "      <th>116</th>\n",
       "      <td>Northeast</td>\n",
       "      <td>New Jersey</td>\n",
       "      <td>Newark</td>\n",
       "      <td>Men's Street Footwear</td>\n",
       "      <td>7920</td>\n",
       "    </tr>\n",
       "    <tr>\n",
       "      <th>8</th>\n",
       "      <td>Midwest</td>\n",
       "      <td>Indiana</td>\n",
       "      <td>Indianapolis</td>\n",
       "      <td>Men's Street Footwear</td>\n",
       "      <td>7857</td>\n",
       "    </tr>\n",
       "    <tr>\n",
       "      <th>2</th>\n",
       "      <td>Midwest</td>\n",
       "      <td>Illinois</td>\n",
       "      <td>Chicago</td>\n",
       "      <td>Men's Street Footwear</td>\n",
       "      <td>7844</td>\n",
       "    </tr>\n",
       "    <tr>\n",
       "      <th>74</th>\n",
       "      <td>Midwest</td>\n",
       "      <td>Wisconsin</td>\n",
       "      <td>Milwaukee</td>\n",
       "      <td>Men's Street Footwear</td>\n",
       "      <td>7552</td>\n",
       "    </tr>\n",
       "    <tr>\n",
       "      <th>14</th>\n",
       "      <td>Midwest</td>\n",
       "      <td>Iowa</td>\n",
       "      <td>Des Moines</td>\n",
       "      <td>Men's Street Footwear</td>\n",
       "      <td>7397</td>\n",
       "    </tr>\n",
       "    <tr>\n",
       "      <th>68</th>\n",
       "      <td>Midwest</td>\n",
       "      <td>South Dakota</td>\n",
       "      <td>Sioux Falls</td>\n",
       "      <td>Men's Street Footwear</td>\n",
       "      <td>7352</td>\n",
       "    </tr>\n",
       "    <tr>\n",
       "      <th>56</th>\n",
       "      <td>Midwest</td>\n",
       "      <td>North Dakota</td>\n",
       "      <td>Fargo</td>\n",
       "      <td>Men's Street Footwear</td>\n",
       "      <td>7325</td>\n",
       "    </tr>\n",
       "    <tr>\n",
       "      <th>92</th>\n",
       "      <td>Northeast</td>\n",
       "      <td>Maine</td>\n",
       "      <td>Portland</td>\n",
       "      <td>Men's Street Footwear</td>\n",
       "      <td>7147</td>\n",
       "    </tr>\n",
       "    <tr>\n",
       "      <th>98</th>\n",
       "      <td>Northeast</td>\n",
       "      <td>Maryland</td>\n",
       "      <td>Baltimore</td>\n",
       "      <td>Men's Street Footwear</td>\n",
       "      <td>7059</td>\n",
       "    </tr>\n",
       "    <tr>\n",
       "      <th>32</th>\n",
       "      <td>Midwest</td>\n",
       "      <td>Minnesota</td>\n",
       "      <td>Minneapolis</td>\n",
       "      <td>Men's Street Footwear</td>\n",
       "      <td>6850</td>\n",
       "    </tr>\n",
       "    <tr>\n",
       "      <th>50</th>\n",
       "      <td>Midwest</td>\n",
       "      <td>Nebraska</td>\n",
       "      <td>Omaha</td>\n",
       "      <td>Men's Street Footwear</td>\n",
       "      <td>6794</td>\n",
       "    </tr>\n",
       "  </tbody>\n",
       "</table>\n",
       "</div>"
      ],
      "text/plain": [
       "        Region           State            City                Product  \\\n",
       "128  Northeast        New York        New York  Men's Street Footwear   \n",
       "266       West      California   San Francisco  Men's Street Footwear   \n",
       "200      South           Texas         Houston  Men's Street Footwear   \n",
       "236  Southeast  South Carolina      Charleston  Men's Street Footwear   \n",
       "260       West      California     Los Angeles  Men's Street Footwear   \n",
       "206  Southeast         Florida           Miami  Men's Street Footwear   \n",
       "230  Southeast  North Carolina       Charlotte  Men's Street Footwear   \n",
       "176      South     Mississippi         Jackson  Men's Street Footwear   \n",
       "194      South           Texas          Dallas  Men's Street Footwear   \n",
       "212  Southeast         Florida         Orlando  Men's Street Footwear   \n",
       "122  Northeast        New York          Albany  Men's Street Footwear   \n",
       "188      South       Tennessee       Knoxville  Men's Street Footwear   \n",
       "218  Southeast         Georgia         Atlanta  Men's Street Footwear   \n",
       "158      South         Alabama      Birmingham  Men's Street Footwear   \n",
       "170      South       Louisiana     New Orleans  Men's Street Footwear   \n",
       "164      South        Arkansas     Little Rock  Men's Street Footwear   \n",
       "284       West           Idaho           Boise  Men's Street Footwear   \n",
       "242  Southeast        Virginia        Richmond  Men's Street Footwear   \n",
       "308       West            Utah  Salt Lake City  Men's Street Footwear   \n",
       "26     Midwest        Michigan         Detroit  Men's Street Footwear   \n",
       "296       West      New Mexico     Albuquerque  Men's Street Footwear   \n",
       "290       West          Nevada       Las Vegas  Men's Street Footwear   \n",
       "320       West         Wyoming        Cheyenne  Men's Street Footwear   \n",
       "62     Midwest            Ohio        Columbus  Men's Street Footwear   \n",
       "182      South        Oklahoma   Oklahoma City  Men's Street Footwear   \n",
       "110  Northeast   New Hampshire      Manchester  Men's Street Footwear   \n",
       "302       West          Oregon        Portland  Men's Street Footwear   \n",
       "146  Northeast         Vermont      Burlington  Men's Street Footwear   \n",
       "254       West         Arizona         Phoenix  Men's Street Footwear   \n",
       "314       West      Washington         Seattle  Men's Street Footwear   \n",
       "80   Northeast     Connecticut        Hartford  Men's Street Footwear   \n",
       "104  Northeast   Massachusetts          Boston  Men's Street Footwear   \n",
       "38     Midwest        Missouri       St. Louis  Men's Street Footwear   \n",
       "44     Midwest         Montana        Billings  Men's Street Footwear   \n",
       "272       West        Colorado          Denver  Men's Street Footwear   \n",
       "248       West          Alaska       Anchorage  Men's Street Footwear   \n",
       "134  Northeast    Pennsylvania    Philadelphia  Men's Street Footwear   \n",
       "278       West          Hawaii        Honolulu  Men's Street Footwear   \n",
       "140  Northeast    Rhode Island      Providence  Men's Street Footwear   \n",
       "224  Southeast        Kentucky      Louisville  Men's Street Footwear   \n",
       "86   Northeast        Delaware      Wilmington  Men's Street Footwear   \n",
       "20     Midwest          Kansas         Wichita  Men's Street Footwear   \n",
       "152  Northeast   West Virginia      Charleston  Men's Street Footwear   \n",
       "116  Northeast      New Jersey          Newark  Men's Street Footwear   \n",
       "8      Midwest         Indiana    Indianapolis  Men's Street Footwear   \n",
       "2      Midwest        Illinois         Chicago  Men's Street Footwear   \n",
       "74     Midwest       Wisconsin       Milwaukee  Men's Street Footwear   \n",
       "14     Midwest            Iowa      Des Moines  Men's Street Footwear   \n",
       "68     Midwest    South Dakota     Sioux Falls  Men's Street Footwear   \n",
       "56     Midwest    North Dakota           Fargo  Men's Street Footwear   \n",
       "92   Northeast           Maine        Portland  Men's Street Footwear   \n",
       "98   Northeast        Maryland       Baltimore  Men's Street Footwear   \n",
       "32     Midwest       Minnesota     Minneapolis  Men's Street Footwear   \n",
       "50     Midwest        Nebraska           Omaha  Men's Street Footwear   \n",
       "\n",
       "     Units Sold  \n",
       "128       22707  \n",
       "266       17235  \n",
       "200       17019  \n",
       "236       15598  \n",
       "260       15575  \n",
       "206       15453  \n",
       "230       13969  \n",
       "176       13839  \n",
       "194       13536  \n",
       "212       13279  \n",
       "122       13148  \n",
       "188       13111  \n",
       "218       12955  \n",
       "158       12612  \n",
       "170       12605  \n",
       "164       12588  \n",
       "284       12573  \n",
       "242       12107  \n",
       "308       11922  \n",
       "26        11809  \n",
       "296       11546  \n",
       "290       11494  \n",
       "320       11426  \n",
       "62        11391  \n",
       "182       11235  \n",
       "110       11137  \n",
       "302       11038  \n",
       "146       10789  \n",
       "254       10631  \n",
       "314       10334  \n",
       "80        10076  \n",
       "104        9736  \n",
       "38         9656  \n",
       "44         9580  \n",
       "272        9114  \n",
       "248        8984  \n",
       "134        8928  \n",
       "278        8923  \n",
       "140        8878  \n",
       "224        8506  \n",
       "86         8506  \n",
       "20         8454  \n",
       "152        8221  \n",
       "116        7920  \n",
       "8          7857  \n",
       "2          7844  \n",
       "74         7552  \n",
       "14         7397  \n",
       "68         7352  \n",
       "56         7325  \n",
       "92         7147  \n",
       "98         7059  \n",
       "32         6850  \n",
       "50         6794  "
      ]
     },
     "execution_count": 37,
     "metadata": {},
     "output_type": "execute_result"
    }
   ],
   "source": [
    "# Mengelompokkan berdasarkan Region, State, dan City, kemudian menghitung total units sold per produk\n",
    "product_sales = df.groupby(['Region', 'State', 'City', 'Product'])['Units Sold'].sum().reset_index()\n",
    "\n",
    "# Menampilkan produk terlaris per wilayah (Region, State, City)\n",
    "most_sold_products = product_sales.sort_values(by='Units Sold', ascending=False).groupby(['Region', 'State', 'City']).head(1)\n",
    "most_sold_products[['Region', 'State', 'City', 'Product', 'Units Sold']]"
   ]
  },
  {
   "cell_type": "markdown",
   "metadata": {},
   "source": [
    "Berdasarkan hasi tersebut, produk yang paling laku dari seluruh wilayah adalah Men's Street Footwear. Perusahaan perlu meningkatkan stok barang dan perusahaan juga bisa mempertimbangkan untuk meningkatkan variasi produk serupa atau mendekati tren yang sama untuk lebih menarik minat konsumen."
   ]
  },
  {
   "cell_type": "code",
   "execution_count": 61,
   "metadata": {},
   "outputs": [
    {
     "data": {
      "text/html": [
       "<div>\n",
       "<style scoped>\n",
       "    .dataframe tbody tr th:only-of-type {\n",
       "        vertical-align: middle;\n",
       "    }\n",
       "\n",
       "    .dataframe tbody tr th {\n",
       "        vertical-align: top;\n",
       "    }\n",
       "\n",
       "    .dataframe thead th {\n",
       "        text-align: right;\n",
       "    }\n",
       "</style>\n",
       "<table border=\"1\" class=\"dataframe\">\n",
       "  <thead>\n",
       "    <tr style=\"text-align: right;\">\n",
       "      <th></th>\n",
       "      <th>Price per Unit</th>\n",
       "      <th>Units Sold</th>\n",
       "    </tr>\n",
       "  </thead>\n",
       "  <tbody>\n",
       "    <tr>\n",
       "      <th>43</th>\n",
       "      <td>50.0</td>\n",
       "      <td>261693</td>\n",
       "    </tr>\n",
       "    <tr>\n",
       "      <th>48</th>\n",
       "      <td>55.0</td>\n",
       "      <td>236634</td>\n",
       "    </tr>\n",
       "    <tr>\n",
       "      <th>38</th>\n",
       "      <td>45.0</td>\n",
       "      <td>228186</td>\n",
       "    </tr>\n",
       "    <tr>\n",
       "      <th>53</th>\n",
       "      <td>60.0</td>\n",
       "      <td>197184</td>\n",
       "    </tr>\n",
       "    <tr>\n",
       "      <th>33</th>\n",
       "      <td>40.0</td>\n",
       "      <td>184968</td>\n",
       "    </tr>\n",
       "    <tr>\n",
       "      <th>...</th>\n",
       "      <td>...</td>\n",
       "      <td>...</td>\n",
       "    </tr>\n",
       "    <tr>\n",
       "      <th>87</th>\n",
       "      <td>97.0</td>\n",
       "      <td>319</td>\n",
       "    </tr>\n",
       "    <tr>\n",
       "      <th>77</th>\n",
       "      <td>84.0</td>\n",
       "      <td>284</td>\n",
       "    </tr>\n",
       "    <tr>\n",
       "      <th>88</th>\n",
       "      <td>98.0</td>\n",
       "      <td>182</td>\n",
       "    </tr>\n",
       "    <tr>\n",
       "      <th>90</th>\n",
       "      <td>101.0</td>\n",
       "      <td>163</td>\n",
       "    </tr>\n",
       "    <tr>\n",
       "      <th>1</th>\n",
       "      <td>8.0</td>\n",
       "      <td>112</td>\n",
       "    </tr>\n",
       "  </tbody>\n",
       "</table>\n",
       "<p>94 rows × 2 columns</p>\n",
       "</div>"
      ],
      "text/plain": [
       "    Price per Unit  Units Sold\n",
       "43            50.0      261693\n",
       "48            55.0      236634\n",
       "38            45.0      228186\n",
       "53            60.0      197184\n",
       "33            40.0      184968\n",
       "..             ...         ...\n",
       "87            97.0         319\n",
       "77            84.0         284\n",
       "88            98.0         182\n",
       "90           101.0         163\n",
       "1              8.0         112\n",
       "\n",
       "[94 rows x 2 columns]"
      ]
     },
     "execution_count": 61,
     "metadata": {},
     "output_type": "execute_result"
    }
   ],
   "source": [
    "# Mengelompokkan data berdasarkan 'Price per Unit' dan menghitung total unit yang terjual untuk setiap harga\n",
    "price_sales = df.groupby('Price per Unit')['Units Sold'].sum().reset_index()\n",
    "\n",
    "# Mengurutkan berdasarkan 'Units Sold' dari yang terbesar ke terkecil\n",
    "price_sales_sorted = price_sales.sort_values(by='Units Sold', ascending=False)\n",
    "\n",
    "# Menampilkan harga yang paling banyak dibeli beserta unit yang terjual\n",
    "price_sales_sorted[['Price per Unit', 'Units Sold']]\n"
   ]
  },
  {
   "cell_type": "markdown",
   "metadata": {},
   "source": [
    "Harga produk dengan harga 50.0 memiliki penjualan tertinggi dengan 261.693 unit terjual, menunjukkan bahwa konsumen lebih banyak membeli produk dengan harga sekitar 50 dollar. Sebaliknya, produk dengan harga 101.0 dan 98.0 memiliki penjualan yang jauh lebih rendah, yang bisa menunjukkan bahwa harga yang lebih tinggi cenderung kurang diminati oleh konsumen."
   ]
  },
  {
   "cell_type": "markdown",
   "metadata": {},
   "source": [
    "### Di kota apa penjualan Adidas yang memiliki performa terbaik dan yang terendah?"
   ]
  },
  {
   "cell_type": "code",
   "execution_count": 43,
   "metadata": {},
   "outputs": [
    {
     "name": "stdout",
     "output_type": "stream",
     "text": [
      "Kota dengan penjualan terbaik: New York dengan 111104 unit terjual.\n",
      "Kota dengan penjualan terendah: Omaha dengan 19154 unit terjual.\n"
     ]
    }
   ],
   "source": [
    "# Mengelompokkan berdasarkan City untuk menghitung total units sold\n",
    "city_sales = df.groupby('City')['Units Sold'].sum().reset_index()\n",
    "\n",
    "# Mengurutkan berdasarkan 'Units Sold' untuk mendapatkan penjualan tertinggi dan terendah\n",
    "city_sales_sorted = city_sales.sort_values(by='Units Sold', ascending=False)\n",
    "\n",
    "# Menemukan kota dengan penjualan tertinggi dan terendah\n",
    "best_city = city_sales_sorted.iloc[0]\n",
    "worst_city = city_sales_sorted.iloc[-1]\n",
    "\n",
    "# Menampilkan hasil\n",
    "print(f\"Kota dengan penjualan terbaik: {best_city['City']} dengan {best_city['Units Sold']} unit terjual.\")\n",
    "print(f\"Kota dengan penjualan terendah: {worst_city['City']} dengan {worst_city['Units Sold']} unit terjual.\")"
   ]
  },
  {
   "cell_type": "markdown",
   "metadata": {},
   "source": [
    "Penjualan tertinggi terjadi di kota New York dengan 111,104 unit terjual, sedangkan penjualan terendah ada di Omaha dengan 19,154 unit. Berdasarkan hasil ini, disarankan untuk meningkatkan promosi dan meningkatkan stok produk Men's Street Footwear di kota tersebut."
   ]
  },
  {
   "cell_type": "code",
   "execution_count": 82,
   "metadata": {},
   "outputs": [
    {
     "data": {
      "image/png": "[encoded data removed]",
      "text/plain": [
       "<Figure size 700x700 with 1 Axes>"
      ]
     },
     "metadata": {},
     "output_type": "display_data"
    }
   ],
   "source": [
    "# Mengelompokkan berdasarkan Region untuk menghitung total Units Sold\n",
    "region_sales = df.groupby('Region')['Units Sold'].sum().reset_index()\n",
    "\n",
    "# Konversi nilai numerik agar tidak ada kesalahan tipe data\n",
    "region_sales['Units Sold'] = region_sales['Units Sold'].astype(float)\n",
    "\n",
    "# Membuat pie chart\n",
    "plt.figure(figsize=(7, 7))\n",
    "plt.pie(region_sales['Units Sold'], labels=region_sales['Region'], autopct='%.2f%%')\n",
    "\n",
    "# Menambahkan judul\n",
    "plt.title('Distribusi Units Sold per Region')\n",
    "\n",
    "# Menampilkan grafik\n",
    "plt.show()"
   ]
  },
  {
   "cell_type": "markdown",
   "metadata": {},
   "source": [
    "Kalau untuk per region, penjualan tertinggi terjadi pada bagian West sebanyak 27.71% dan terendah pada bagian Midwest 15.80%. Sama seperti sebelumnya, perusahaan perlu fokus pada daerah terendah agar penjualan naik "
   ]
  },
  {
   "cell_type": "markdown",
   "metadata": {},
   "source": [
    "### Produk apa yang menghasilkan margin keuntungan terbesar dan terkecil ?"
   ]
  },
  {
   "cell_type": "code",
   "execution_count": 47,
   "metadata": {},
   "outputs": [
    {
     "name": "stdout",
     "output_type": "stream",
     "text": [
      "Produk dengan margin keuntungan terbesar: Men's Street Footwear dengan margin 8280294.\n",
      "Produk dengan margin keuntungan terendah: Women's Athletic Footwear dengan margin 3896040.\n"
     ]
    }
   ],
   "source": [
    "# Menghitung total margin keuntungan per produk\n",
    "product_profit_margin = df.groupby('Product')['Operating Profit'].sum().reset_index()\n",
    "\n",
    "# Mengurutkan berdasarkan 'Operating Profit' untuk mendapatkan margin keuntungan tertinggi dan terendah\n",
    "product_profit_margin_sorted = product_profit_margin.sort_values(by='Operating Profit', ascending=False)\n",
    "\n",
    "# Menemukan produk dengan margin keuntungan terbesar dan terkecil\n",
    "best_product = product_profit_margin_sorted.iloc[0]\n",
    "worst_product = product_profit_margin_sorted.iloc[-1]\n",
    "\n",
    "# Menampilkan hasil\n",
    "print(f\"Produk dengan margin keuntungan terbesar: {best_product['Product']} dengan margin {best_product['Operating Profit']}.\")\n",
    "print(f\"Produk dengan margin keuntungan terendah: {worst_product['Product']} dengan margin {worst_product['Operating Profit']}.\")\n"
   ]
  },
  {
   "cell_type": "markdown",
   "metadata": {},
   "source": [
    "Men's Street Footwear merupakan produk dengan margin keuntungan terbesar yaitu $8.280.294 dan Women's Athletic Footwear memiliki margin keuntungan terkecil sebesar $3.896.040."
   ]
  },
  {
   "cell_type": "code",
   "execution_count": 70,
   "metadata": {},
   "outputs": [
    {
     "data": {
      "image/png": "[encoded data removed]",
      "text/plain": [
       "<Figure size 1000x500 with 1 Axes>"
      ]
     },
     "metadata": {},
     "output_type": "display_data"
    }
   ],
   "source": [
    "# Mengelompokkan data berdasarkan produk dan menjumlahkan profit\n",
    "product_profit = df.groupby('Product')['Operating Profit'].sum().sort_values(ascending=False)\n",
    "\n",
    "# Membuat barchart\n",
    "plt.figure(figsize=(10, 5))\n",
    "product_profit.plot(kind='bar', color='skyblue', edgecolor='black')\n",
    "\n",
    "# Menambahkan judul dan label\n",
    "plt.title('Profit Berdasarkan Produk')\n",
    "plt.xlabel('Produk')\n",
    "plt.ylabel('Total Profit (dalam juta dollar)')\n",
    "plt.xticks(rotation=45, ha='right')  # Memiringkan label produk agar lebih terbaca\n",
    "\n",
    "# Menampilkan grafik\n",
    "plt.show()"
   ]
  },
  {
   "cell_type": "markdown",
   "metadata": {},
   "source": [
    "Produk Men's Street Footwear menghasilkan margin keuntungan terbesar, menunjukkan bahwa produk ini sangat menguntungkan. Di sisi lain, Women's Athletic Footwear memiliki margin keuntungan terendah, yang perlu diperbaiki dengan mengevaluasi strategi pemasaran."
   ]
  },
  {
   "cell_type": "markdown",
   "metadata": {},
   "source": [
    "### Kapan penjualan produk mengalami peningkatan atau penurunan?"
   ]
  },
  {
   "cell_type": "code",
   "execution_count": 67,
   "metadata": {},
   "outputs": [
    {
     "data": {
      "image/png": "[encoded data removed]",
      "text/plain": [
       "<Figure size 1200x600 with 1 Axes>"
      ]
     },
     "metadata": {},
     "output_type": "display_data"
    }
   ],
   "source": [
    "import matplotlib.pyplot as plt\n",
    "\n",
    "# Mengelompokkan berdasarkan bulan dan menghitung total unit yang terjual\n",
    "df_sorted['Month'] = df_sorted['Invoice Date'].dt.to_period('M')\n",
    "monthly_sales = df_sorted.groupby('Month')['Units Sold'].sum().reset_index()\n",
    "\n",
    "# Visualisasi Line Chart untuk total penjualan per bulan\n",
    "plt.figure(figsize=(12, 6))\n",
    "plt.plot(monthly_sales['Month'].astype(str), monthly_sales['Units Sold'], marker='o', color='b')\n",
    "\n",
    "# Menambahkan label dan judul\n",
    "plt.title('Tren Penjualan Bulanan', fontsize=16)\n",
    "plt.xlabel('Bulan', fontsize=12)\n",
    "plt.ylabel('Jumlah Unit Terjual', fontsize=12)\n",
    "plt.xticks(rotation=45)  # Agar label bulan lebih mudah dibaca\n",
    "plt.tight_layout()\n",
    "\n",
    "# Menampilkan plot\n",
    "plt.show()\n"
   ]
  },
  {
   "cell_type": "markdown",
   "metadata": {},
   "source": [
    "Penjualan Adidas di Amerika mengalami fluktuasi sepanjang tahun 2020, dengan penurunan signifikan pada pertengahan tahun yang disebabkan oleh pandemi setelah itu peningkatan secara drastis pada awal 2021. Lonjakan besar pada Januari 2021 menunjukkan adanya faktor yang mempengaruhi peningkatan permintaan, kemungkinan strategi pemasaran atau peluncuran produk baru. Setelah kenaikan tersebut, tren penjualan tetap relatif tinggi dengan beberapa fluktuasi kecil"
   ]
  },
  {
   "cell_type": "markdown",
   "metadata": {},
   "source": [
    "### Statistik Inferensial"
   ]
  },
  {
   "cell_type": "markdown",
   "metadata": {},
   "source": [
    "### Mengapa pada setiap metode penjualan memiliki performa penjualan yang berbeda beda?"
   ]
  },
  {
   "cell_type": "markdown",
   "metadata": {},
   "source": [
    "Menggunakan uji anova antara penjualan di online, outlet, dan in-store\n",
    "\n",
    "**H0**: Tidak ada perbedaan signifikan antara rata-rata penjualan di saluran distribusi online, outlet, dan in-store.\n",
    "\n",
    "**H1**: Ada perbedaan signifikan antara rata-rata penjualan di saluran distribusi online, outlet, dan in-store."
   ]
  },
  {
   "cell_type": "code",
   "execution_count": 33,
   "metadata": {},
   "outputs": [
    {
     "name": "stdout",
     "output_type": "stream",
     "text": [
      "F-statistic: 702.5176022837652\n",
      "P-value: 1.561528946459925e-285\n",
      "Terdapat perbedaan signifikan antara saluran distribusi.\n"
     ]
    }
   ],
   "source": [
    "import scipy.stats as stats\n",
    "\n",
    "# Mengelompokkan data berdasarkan metode penjualan\n",
    "online_sales = df[df['Sales Method'] == 'Online']['Units Sold']\n",
    "outlet_sales = df[df['Sales Method'] == 'Outlet']['Units Sold']\n",
    "instore_sales = df[df['Sales Method'] == 'In-store']['Units Sold']\n",
    "\n",
    "# Melakukan ANOVA untuk membandingkan penjualan antara tiga saluran distribusi\n",
    "f_statistic, p_value = stats.f_oneway(online_sales, outlet_sales, instore_sales)\n",
    "\n",
    "# Menampilkan hasil\n",
    "print(f'F-statistic: {f_statistic}')\n",
    "print(f'P-value: {p_value}')\n",
    "\n",
    "# Menarik kesimpulan\n",
    "if p_value < 0.05:\n",
    "    print(\"Terdapat perbedaan signifikan antara saluran distribusi.\")\n",
    "else:\n",
    "    print(\"Tidak ada perbedaan signifikan antara saluran distribusi.\")"
   ]
  },
  {
   "cell_type": "markdown",
   "metadata": {},
   "source": [
    "Hasil ANOVA menunjukkan adanya perbedaan yang signifikan antara penjualan melalui saluran distribusi Online, Outlet, dan In-store, dengan nilai p sangat kecil. Hal ini mengindikasikan bahwa metode distribusi mempengaruhi jumlah barang yang terjual."
   ]
  },
  {
   "cell_type": "code",
   "execution_count": 86,
   "metadata": {},
   "outputs": [
    {
     "data": {
      "image/png": "[encoded data removed]",
      "text/plain": [
       "<Figure size 700x700 with 1 Axes>"
      ]
     },
     "metadata": {},
     "output_type": "display_data"
    }
   ],
   "source": [
    "# Mengelompokkan data berdasarkan metode penjualan\n",
    "sales_methods = ['Online', 'Outlet', 'In-store']\n",
    "units_sold = [\n",
    "    df[df['Sales Method'] == 'Online']['Units Sold'].sum(),\n",
    "    df[df['Sales Method'] == 'Outlet']['Units Sold'].sum(),\n",
    "    df[df['Sales Method'] == 'In-store']['Units Sold'].sum()\n",
    "]\n",
    "\n",
    "# Membuat pie chart\n",
    "plt.figure(figsize=(7, 7))\n",
    "plt.pie(units_sold, labels=sales_methods, autopct='%1.1f%%', colors=['blue', 'green', 'red'])\n",
    "\n",
    "# Menambahkan judul\n",
    "plt.title('Distribusi Total Barang Terjual Berdasarkan Metode Sales')\n",
    "\n",
    "# Menampilkan grafik\n",
    "plt.show()"
   ]
  },
  {
   "cell_type": "markdown",
   "metadata": {},
   "source": [
    "Berdasarkan persentase unit yang terjual pada masing-masing saluran distribusi, dapat dilihat bahwa saluran penjualan Online memiliki persentase penjualan tertinggi dikarenakan akses terhadap toko online lebih mudah, kapan saja dan dimana saja dan pada waktu terjadi covid yang menyebabkan banyak toko offline tutup.\n",
    "\n",
    "Outlet lebih unggul daripada in-store karena outlet menjual barang yang diskon dan produk-produk lama sehingga harganya murah, sedangkan in-store menjual semua barang dari yang terbaru sampai yang lama ada."
   ]
  },
  {
   "cell_type": "markdown",
   "metadata": {},
   "source": [
    "# VI. Conclusion"
   ]
  },
  {
   "cell_type": "markdown",
   "metadata": {},
   "source": [
    "Berdasarkan analisis penjualan, Men's Street Footwear merupakan produk Adidas yang paling laku di seluruh wilayah, dengan penjualan tertinggi di wilayah West dan terendah di Midwest, serta kota New York sebagai kota dengan performa terbaik dan Omaha sebagai yang terendah. Produk ini juga menghasilkan margin keuntungan terbesar, sementara Women's Athletic Footwear memiliki margin terendah. Penjualan mengalami penurunan tajam di pertengahan 2020 akibat pandemi dan melonjak drastis pada awal 2021, diduga karena strategi pemasaran baru atau peluncuran produk. Performa penjualan berbeda antar metode distribusi karena online store aksesnya mudah dan fleksibel, outlet menarik dengan harga diskon, dan in-store cenderung lebih mahal. Untuk meningkatkan penjualan sebesar 20% di wilayah berperforma rendah, disarankan untuk meningkatkan promosi, stok, dan variasi produk unggulan seperti Men's Street Footwear, serta mengoptimalkan saluran distribusi online yang terbukti paling efektif dalam meningkatkan penjualan."
   ]
  },
  {
   "cell_type": "code",
   "execution_count": 89,
   "metadata": {},
   "outputs": [],
   "source": [
    "df.to_csv('bersih.csv', index=False)"
   ]
  },
  {
   "cell_type": "code",
   "execution_count": 90,
   "metadata": {},
   "outputs": [
    {
     "name": "stdout",
     "output_type": "stream",
     "text": [
      "<class 'pandas.core.frame.DataFrame'>\n",
      "Index: 9639 entries, 0 to 9640\n",
      "Data columns (total 13 columns):\n",
      " #   Column            Non-Null Count  Dtype         \n",
      "---  ------            --------------  -----         \n",
      " 0   Retailer          9639 non-null   object        \n",
      " 1   Retailer ID       9639 non-null   int64         \n",
      " 2   Invoice Date      9639 non-null   datetime64[ns]\n",
      " 3   Region            9639 non-null   object        \n",
      " 4   State             9639 non-null   object        \n",
      " 5   City              9639 non-null   object        \n",
      " 6   Product           9639 non-null   object        \n",
      " 7   Price per Unit    9639 non-null   float64       \n",
      " 8   Units Sold        9639 non-null   int64         \n",
      " 9   Total Sales       9639 non-null   int64         \n",
      " 10  Operating Profit  9639 non-null   int64         \n",
      " 11  Sales Method      9639 non-null   object        \n",
      " 12  Month             9639 non-null   period[M]     \n",
      "dtypes: datetime64[ns](1), float64(1), int64(4), object(6), period[M](1)\n",
      "memory usage: 1.0+ MB\n"
     ]
    }
   ],
   "source": [
    "df.info()"
   ]
  }
 ],
 "metadata": {
  "kernelspec": {
   "display_name": "base",
   "language": "python",
   "name": "python3"
  },
  "language_info": {
   "codemirror_mode": {
    "name": "ipython",
    "version": 3
   },
   "file_extension": ".py",
   "mimetype": "text/x-python",
   "name": "python",
   "nbconvert_exporter": "python",
   "pygments_lexer": "ipython3",
   "version": "3.12.7"
  }
 },
 "nbformat": 4,
 "nbformat_minor": 2
}
